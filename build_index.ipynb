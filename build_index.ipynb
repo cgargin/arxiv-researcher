{
 "cells": [
  {
   "cell_type": "code",
   "execution_count": 34,
   "metadata": {},
   "outputs": [],
   "source": [
    "from tools import fetch_arxiv_papers\n",
    "papers=[]\n",
    "papers = fetch_arxiv_papers(\"Language Model\", 20)\n"
   ]
  },
  {
   "cell_type": "code",
   "execution_count": 35,
   "metadata": {},
   "outputs": [
    {
     "data": {
      "text/plain": [
       "['Mobile-MMLU: A Mobile Intelligence Language Understanding Benchmark',\n",
       " 'ASGO: Adaptive Structured Gradient Optimization',\n",
       " 'MCTS-RAG: Enhancing Retrieval-Augmented Generation with Monte Carlo Tree Search',\n",
       " 'Reason-RFT: Reinforcement Fine-Tuning for Visual Reasoning',\n",
       " 'MATHGLANCE: Multimodal Large Language Models Do Not Know Where to Look in Mathematical Diagrams',\n",
       " 'Dynamic Motion Blending for Versatile Motion Editing',\n",
       " 'From Annotation to Adaptation: Metrics, Synthetic Data, and Aspect Extraction for Aspect-Based Sentiment Analysis with Large Language Models',\n",
       " 'MMMORRF: Multimodal Multilingual Modularized Reciprocal Rank Fusion',\n",
       " 'Mitigating Low-Level Visual Hallucinations Requires Self-Awareness: Database, Model and Training Strategy',\n",
       " 'TAMA: A Human-AI Collaborative Thematic Analysis Framework Using Multi-Agent LLMs for Clinical Interviews',\n",
       " 'AutoRad-Lung: A Radiomic-Guided Prompting Autoregressive Vision-Language Model for Lung Nodule Malignancy Prediction',\n",
       " 'AccidentSim: Generating Physically Realistic Vehicle Collision Videos from Real-World Accident Reports',\n",
       " 'Unlocking Efficient Long-to-Short LLM Reasoning with Model Merging',\n",
       " 'Collaborative Storytelling and LLM: A Linguistic Analysis of Automatically-Generated Role-Playing Game Sessions',\n",
       " 'IAP: Improving Continual Learning of Vision-Language Models via Instance-Aware Prompting',\n",
       " 'What to Retrieve for Effective Retrieval-Augmented Code Generation? An Empirical Study and Beyond',\n",
       " 'LLPut: Investigating Large Language Models for Bug Report-Based Input Generation',\n",
       " 'Optimizing Case-Based Reasoning System for Functional Test Script Generation with Large Language Models',\n",
       " 'Low-resource Information Extraction with the European Clinical Case Corpus',\n",
       " 'A Theoretical Framework for Prompt Engineering: Approximating Smooth Functions with Transformer Prompts']"
      ]
     },
     "execution_count": 35,
     "metadata": {},
     "output_type": "execute_result"
    }
   ],
   "source": [
    "# print the titles of the papers\n",
    "[paper[\"title\"] for paper in papers]"
   ]
  }
 ],
 "metadata": {
  "kernelspec": {
   "display_name": ".venv",
   "language": "python",
   "name": "python3"
  },
  "language_info": {
   "codemirror_mode": {
    "name": "ipython",
    "version": 3
   },
   "file_extension": ".py",
   "mimetype": "text/x-python",
   "name": "python",
   "nbconvert_exporter": "python",
   "pygments_lexer": "ipython3",
   "version": "3.12.7"
  }
 },
 "nbformat": 4,
 "nbformat_minor": 2
}
